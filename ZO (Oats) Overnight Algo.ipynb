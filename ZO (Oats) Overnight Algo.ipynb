{
 "cells": [
  {
   "cell_type": "markdown",
   "id": "85f9eacc",
   "metadata": {},
   "source": [
    "# ZO (Oats) Overnight Algo"
   ]
  },
  {
   "cell_type": "code",
   "execution_count": 5,
   "id": "c2723983",
   "metadata": {},
   "outputs": [],
   "source": [
    "import pandas as pd\n",
    "import numpy as np\n",
    "import matplotlib.pyplot as plt\n",
    "%matplotlib inline\n",
    "import yfinance as yf\n",
    "import bt\n",
    "from ib_insync import *\n",
    "import nest_asyncio\n",
    "import logging\n",
    "import datetime\n",
    "import schedule\n",
    "import time"
   ]
  },
  {
   "cell_type": "code",
   "execution_count": 6,
   "id": "3f850b5f",
   "metadata": {},
   "outputs": [
    {
     "data": {
      "text/plain": [
       "<IB connected to 127.0.0.1:7496 clientId=420>"
      ]
     },
     "execution_count": 6,
     "metadata": {},
     "output_type": "execute_result"
    }
   ],
   "source": [
    "nest_asyncio.apply()\n",
    "# Connect to TWS (or gateway)\n",
    "ib = IB()\n",
    "ib.connect('127.0.0.1', 7496, clientId=420) #7497-Paper Trading, 7496-Live trading"
   ]
  },
  {
   "cell_type": "code",
   "execution_count": 7,
   "id": "585bc9df",
   "metadata": {},
   "outputs": [
    {
     "data": {
      "text/plain": [
       "[Future(conId=630781096, symbol='ZO', lastTradeDateOrContractMonth='20250514', multiplier='5000', exchange='CBOT', currency='USD', localSymbol='ZOK5', tradingClass='ZO')]"
      ]
     },
     "execution_count": 7,
     "metadata": {},
     "output_type": "execute_result"
    }
   ],
   "source": [
    "#Define ES contract\n",
    "contract = Future('ZO', '202505', 'CBOT')\n",
    "\n",
    "# Qualify the contract (ensures IB recognizes it)\n",
    "ib.qualifyContracts(contract)"
   ]
  },
  {
   "cell_type": "markdown",
   "id": "95887248",
   "metadata": {},
   "source": [
    "## ZO Oats Overnight Algorithm"
   ]
  },
  {
   "cell_type": "code",
   "execution_count": 8,
   "id": "f0a52138",
   "metadata": {
    "scrolled": true
   },
   "outputs": [
    {
     "name": "stdout",
     "output_type": "stream",
     "text": [
      "Buy Order Placed. 2025-02-26 14:19:56\n",
      "Buy Trade already executed today.\n"
     ]
    },
    {
     "ename": "KeyboardInterrupt",
     "evalue": "",
     "output_type": "error",
     "traceback": [
      "\u001b[1;31m---------------------------------------------------------------------------\u001b[0m",
      "\u001b[1;31mKeyboardInterrupt\u001b[0m                         Traceback (most recent call last)",
      "\u001b[1;32m~\\AppData\\Local\\Temp\\ipykernel_33648\\2493421500.py\u001b[0m in \u001b[0;36m<module>\u001b[1;34m\u001b[0m\n\u001b[0;32m     81\u001b[0m \u001b[1;32mwhile\u001b[0m \u001b[1;32mTrue\u001b[0m\u001b[1;33m:\u001b[0m\u001b[1;33m\u001b[0m\u001b[1;33m\u001b[0m\u001b[0m\n\u001b[0;32m     82\u001b[0m     \u001b[0mschedule\u001b[0m\u001b[1;33m.\u001b[0m\u001b[0mrun_pending\u001b[0m\u001b[1;33m(\u001b[0m\u001b[1;33m)\u001b[0m\u001b[1;33m\u001b[0m\u001b[1;33m\u001b[0m\u001b[0m\n\u001b[1;32m---> 83\u001b[1;33m     \u001b[0mtime\u001b[0m\u001b[1;33m.\u001b[0m\u001b[0msleep\u001b[0m\u001b[1;33m(\u001b[0m\u001b[1;36m0.50\u001b[0m\u001b[1;33m)\u001b[0m\u001b[1;33m\u001b[0m\u001b[1;33m\u001b[0m\u001b[0m\n\u001b[0m",
      "\u001b[1;31mKeyboardInterrupt\u001b[0m: "
     ]
    }
   ],
   "source": [
    "# Production Version\n",
    "\n",
    "# Initialize global flag\n",
    "last_buy_trade_date = None\n",
    "last_sell_trade_date = None\n",
    "\n",
    "def execute_buy_trade():\n",
    "    global last_buy_trade_date\n",
    "    now = datetime.datetime.now()\n",
    "    today = datetime.datetime.now()\n",
    "    buy_days = [0,1,2,3,4]  \n",
    "    trade_time = datetime.time(14, 19, 56) #14, 19, 56\n",
    "\n",
    "    # Check if day and time matches criteria above\n",
    "    if now.weekday() in buy_days and \\\n",
    "       now.time().hour == trade_time.hour and \\\n",
    "       now.time().minute == trade_time.minute and \\\n",
    "       now.time().second == trade_time.second:\n",
    "       \n",
    "        # Check if buy trade already been executed today\n",
    "        if last_buy_trade_date == now.date():\n",
    "            print(\"Buy Trade already executed today.\")\n",
    "            return\n",
    "\n",
    "        # Define contract & order\n",
    "        contract = Future('ZO', '202505', 'CBOT')\n",
    "        order = MarketOrder(\"Buy\", 1)  \n",
    "\n",
    "        # Place trade\n",
    "        ib.placeOrder(contract, order)\n",
    "        print(\"Buy Order Placed.\", today.strftime('%Y-%m-%d %H:%M:%S'))\n",
    "\n",
    "        # Log trade\n",
    "        logging.info(f\"Executed Trade: {today.strftime('%Y-%m-%d %H:%M:%S')} - Buy 3 ZO\")\n",
    "        \n",
    "        # Update the last trade date to avoid duplicate trades for the day\n",
    "        last_buy_trade_date = now.date()\n",
    "        return\n",
    "\n",
    "    print(\"No BUY Condition Met.\")\n",
    "\n",
    "def execute_sell_trade():\n",
    "    global last_sell_trade_date\n",
    "    now = datetime.datetime.now()\n",
    "    today = datetime.datetime.now()\n",
    "    buy_days = [0,1,2,3,4]  \n",
    "    trade_time = datetime.time(9, 29, 56) #9 29 56\n",
    "\n",
    "    # Check if day and time matches criteria above\n",
    "    if now.weekday() in buy_days and \\\n",
    "       now.time().hour == trade_time.hour and \\\n",
    "       now.time().minute == trade_time.minute and \\\n",
    "       now.time().second == trade_time.second:\n",
    "       \n",
    "        # Check if trade already been executed today\n",
    "        if last_sell_trade_date == now.date():\n",
    "            print(\"Sell Trade Already executed today.\")\n",
    "            return\n",
    "\n",
    "        # Define contract & order\n",
    "        contract = Future('ZO', '202505', 'CBOT')\n",
    "        order = MarketOrder(\"Sell\", 3)  \n",
    "\n",
    "        # Place trade\n",
    "        ib.placeOrder(contract, order)\n",
    "        print(\"Sell Order Placed.\", today.strftime('%Y-%m-%d %H:%M:%S'))\n",
    "\n",
    "        # Log trade\n",
    "        logging.info(f\"Executed Trade: {today.strftime('%Y-%m-%d %H:%M:%S')} - Sell 3 ZO\")\n",
    "        \n",
    "        # Update the last trade date to avoid duplicate trades for the day\n",
    "        last_sell_trade_date = now.date()\n",
    "        return\n",
    "\n",
    "    print(\"No SELL Condition Met.\")\n",
    "\n",
    "schedule.every().day.at(\"14:19:56\").do(execute_buy_trade) #14:19:56 \n",
    "schedule.every().day.at(\"09:29:56\").do(execute_sell_trade) #09:29:58\n",
    "\n",
    "# Keep scheduler running\n",
    "while True:\n",
    "    schedule.run_pending()\n",
    "    time.sleep(0.50)"
   ]
  },
  {
   "cell_type": "code",
   "execution_count": null,
   "id": "9bfbacf9",
   "metadata": {},
   "outputs": [],
   "source": []
  }
 ],
 "metadata": {
  "kernelspec": {
   "display_name": "Python 3 (ipykernel)",
   "language": "python",
   "name": "python3"
  },
  "language_info": {
   "codemirror_mode": {
    "name": "ipython",
    "version": 3
   },
   "file_extension": ".py",
   "mimetype": "text/x-python",
   "name": "python",
   "nbconvert_exporter": "python",
   "pygments_lexer": "ipython3",
   "version": "3.9.13"
  }
 },
 "nbformat": 4,
 "nbformat_minor": 5
}
